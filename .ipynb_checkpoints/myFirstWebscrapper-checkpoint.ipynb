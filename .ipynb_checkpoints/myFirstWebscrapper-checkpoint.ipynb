{
 "cells": [
  {
   "cell_type": "code",
   "execution_count": 8,
   "id": "5c4dc645-014a-49b0-aeb9-c73978a868d9",
   "metadata": {},
   "outputs": [
    {
     "name": "stdout",
     "output_type": "stream",
     "text": [
      "Name: Product 1\n",
      "Price: $19.99\n",
      "Image: product1.jpg\n",
      "Name: Product 2\n",
      "Price: $29.99\n",
      "Image: product2.jpg\n",
      "Name: Product 3\n",
      "Price: $39.99\n",
      "Image: product3.jpg\n"
     ]
    }
   ],
   "source": [
    "import requests\n",
    "from bs4 import BeautifulSoup\n",
    "\n",
    "url = 'https://braiandeleon.github.io/shopExample.html'\n",
    "response = requests.get(url)\n",
    "soup = BeautifulSoup(response.text, 'html.parser')\n",
    "\n",
    "products = soup.find_all('li')\n",
    "for product in products:\n",
    "    image = product.find('img')['src']\n",
    "    name = product.find('h3').text\n",
    "    price = product.find('p').text\n",
    "    print('Name:', name)\n",
    "    print('Price:', price)\n",
    "    print('Image:', image)\n"
   ]
  },
  {
   "cell_type": "code",
   "execution_count": null,
   "id": "c01040ec-84f9-496c-b272-660a05ce6f33",
   "metadata": {},
   "outputs": [],
   "source": []
  }
 ],
 "metadata": {
  "kernelspec": {
   "display_name": "Python 3 (ipykernel)",
   "language": "python",
   "name": "python3"
  },
  "language_info": {
   "codemirror_mode": {
    "name": "ipython",
    "version": 3
   },
   "file_extension": ".py",
   "mimetype": "text/x-python",
   "name": "python",
   "nbconvert_exporter": "python",
   "pygments_lexer": "ipython3",
   "version": "3.9.13"
  }
 },
 "nbformat": 4,
 "nbformat_minor": 5
}
